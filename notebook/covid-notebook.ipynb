{
 "cells": [
  {
   "cell_type": "code",
   "execution_count": 5,
   "metadata": {},
   "outputs": [],
   "source": [
    "state_coverage_json_data_url = \"https://covidtracking.com/api/states/daily\"\n",
    "us_county_cases_csv_url=\"https://raw.githubusercontent.com/nytimes/covid-19-data/master/us-counties.csv\"\n",
    "state_population_file = '../data/statepopulation.csv'\n",
    "\n",
    "state_population_data = []\n",
    "us_cases_by_county = []"
   ]
  },
  {
   "cell_type": "code",
   "execution_count": 11,
   "metadata": {},
   "outputs": [],
   "source": [
    "import pandas as pd\n",
    "state_population_data = pd.read_csv(state_population_file)\n",
    "us_county_cases_csv_data = pd.read_csv(us_county_cases_csv_url)\n",
    "state_coverage_json_data = pd.read_json(state_coverage_json_data_url)\n"
   ]
  },
  {
   "cell_type": "code",
   "execution_count": 18,
   "metadata": {},
   "outputs": [],
   "source": [
    "# plot oregon cases\n",
    "oregon_cases = []\n",
    "for index, row in us_county_cases_csv_data.iterrows():\n",
    "    if row['state']=='Oregon':\n",
    "        oregon_cases.extend(row)"
   ]
  },
  {
   "cell_type": "code",
   "execution_count": null,
   "metadata": {},
   "outputs": [],
   "source": [
    "us_county_cases_csv_data.plot.hist(bins=12,alpha=0.5)"
   ]
  },
  {
   "cell_type": "code",
   "execution_count": null,
   "metadata": {},
   "outputs": [],
   "source": []
  }
 ],
 "metadata": {
  "kernelspec": {
   "display_name": "Python 3",
   "language": "python",
   "name": "python3"
  },
  "language_info": {
   "codemirror_mode": {
    "name": "ipython",
    "version": 3
   },
   "file_extension": ".py",
   "mimetype": "text/x-python",
   "name": "python",
   "nbconvert_exporter": "python",
   "pygments_lexer": "ipython3",
   "version": "3.7.3"
  }
 },
 "nbformat": 4,
 "nbformat_minor": 4
}
